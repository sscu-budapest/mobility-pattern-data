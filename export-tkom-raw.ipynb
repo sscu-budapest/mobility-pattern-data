{
 "cells": [
  {
   "cell_type": "code",
   "execution_count": 1,
   "id": "03f38b95",
   "metadata": {},
   "outputs": [],
   "source": [
    "import tarfile\n",
    "import os\n",
    "from pathlib import Path\n",
    "\n",
    "import pandas as pd\n",
    "import datazimmer as dz\n",
    "\n",
    "from dotenv import load_dotenv"
   ]
  },
  {
   "cell_type": "code",
   "execution_count": 2,
   "id": "9ccdf908",
   "metadata": {},
   "outputs": [],
   "source": [
    "load_dotenv()\n",
    "raw_dir = Path(os.environ[\"TKOM_DATA_DIR\"])"
   ]
  },
  {
   "cell_type": "code",
   "execution_count": 3,
   "id": "b2e53818",
   "metadata": {},
   "outputs": [],
   "source": [
    "dcols = [\"year\", \"month\", \"day\", \"hour\"]"
   ]
  },
  {
   "cell_type": "code",
   "execution_count": 5,
   "id": "f298ba71",
   "metadata": {},
   "outputs": [],
   "source": [
    "for tarp in raw_dir.glob(\"*.tar\"):\n",
    "    with tarfile.TarFile(tarp) as tar:\n",
    "        month_df = (\n",
    "            pd.concat(\n",
    "                pd.read_csv(tar.extractfile(memb), compression=\"gzip\") for memb in tar\n",
    "            )\n",
    "            .assign(hour=lambda df: pd.to_datetime(df.loc[:, dcols]))\n",
    "            .rename(columns={\"raster_id\": \"hid\"})\n",
    "            .set_index([\"hid\", \"hour\"])\n",
    "        )\n",
    "        atts_df = month_df.drop(\n",
    "            [\"Unnamed: 0\", \"year\", \"month\", \"day\", \"traffic\", \"min_which_not_zero\"], axis=1\n",
    "        )\n",
    "        month_id = str(month_df.iloc[0, :].name[1])[:7]\n",
    "        month_df[[\"traffic\"]].to_parquet(dz.get_raw_data_path(f\"{month_id}-traffic.parquet\"))\n",
    "        atts_df.to_parquet(dz.get_raw_data_path(f\"{month_id}-atts.parquet\"))"
   ]
  }
 ],
 "metadata": {
  "kernelspec": {
   "display_name": "Python 3 (ipykernel)",
   "language": "python",
   "name": "python3"
  },
  "language_info": {
   "codemirror_mode": {
    "name": "ipython",
    "version": 3
   },
   "file_extension": ".py",
   "mimetype": "text/x-python",
   "name": "python",
   "nbconvert_exporter": "python",
   "pygments_lexer": "ipython3",
   "version": "3.10.6"
  }
 },
 "nbformat": 4,
 "nbformat_minor": 5
}
